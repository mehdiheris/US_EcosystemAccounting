{
 "cells": [
  {
   "cell_type": "code",
   "execution_count": 135,
   "metadata": {},
   "outputs": [],
   "source": [
    "import rasterio\n",
    "import numpy as np\n",
    "import pandas as pd\n",
    "import fiona\n",
    "import time\n",
    "from shapely.geometry import mapping, shape\n",
    "from shapely.geometry import box as shBox\n",
    "from rasterio import windows as win"
   ]
  },
  {
   "cell_type": "code",
   "execution_count": 136,
   "metadata": {},
   "outputs": [],
   "source": [
    "# set the year\n",
    "t1=time.time()"
   ]
  },
  {
   "cell_type": "markdown",
   "metadata": {},
   "source": [
    "# 2016"
   ]
  },
  {
   "cell_type": "code",
   "execution_count": 137,
   "metadata": {},
   "outputs": [],
   "source": [
    "# set the address of nlcd products here\n",
    "year = 2016\n",
    "nlcd_tc_Address=r'G:\\NationalLayer\\NLCD_Products\\2016\\nlcd_2016_treecanopy_2019_08_31\\nlcd_2016_treecanopy_2019_08_31_projected.img'\n",
    "nlcd_lc_Address=r'G:\\NationalLayer\\NLCD_Products\\2016\\NLCD_2016_Land_Cover_L48_20190424\\NLCD_2016_Land_Cover_L48_20190424_projected.img'"
   ]
  },
  {
   "cell_type": "markdown",
   "metadata": {},
   "source": [
    "# 2011"
   ]
  },
  {
   "cell_type": "code",
   "execution_count": 75,
   "metadata": {},
   "outputs": [],
   "source": [
    "year = 2011\n",
    "nlcd_tc_Address=r'G:\\NationalLayer\\NLCD_Products\\2011\\nlcd_2011_treecanopy_2019_08_31\\nlcd_2011_treecanopy_2019_08_31_Projected.img'\n",
    "nlcd_lc_Address=r'G:\\NationalLayer\\NLCD_Products\\2011\\NLCD_2011_Land_Cover_L48_20190424\\NLCD_2011_Land_Cover_L48_20190424_projected.img'"
   ]
  },
  {
   "cell_type": "code",
   "execution_count": 138,
   "metadata": {},
   "outputs": [
    {
     "name": "stderr",
     "output_type": "stream",
     "text": [
      "C:\\ProgramData\\Anaconda2\\envs\\myenv\\lib\\site-packages\\IPython\\core\\interactiveshell.py:3063: DtypeWarning: Columns (4,5,17,18) have mixed types.Specify dtype option on import or set low_memory=False.\n",
      "  interactivity=interactivity, compiler=compiler, result=result)\n"
     ]
    }
   ],
   "source": [
    "# read processed csv file for climate data. you can use the processing script to prepare this csv file\n",
    "df_storm=pd.read_csv(r'G:\\NationalLayer\\ClimateData\\DailySummary\\dfUS{}_processed.csv'.format(year))"
   ]
  },
  {
   "cell_type": "code",
   "execution_count": 150,
   "metadata": {},
   "outputs": [],
   "source": [
    "# set the address of station shapefile and its allocation raster address here\n",
    "stationPointShape=r'G:\\NationalLayer\\ClimateData\\Stations\\Stations_All_USAl.shp'\n",
    "stationAllocationAddress=r'G:\\NationalLayer\\ClimateData\\Stations\\Allocation_StationFIDs30.img'\n",
    "nlud_Address= r'G:\\NationalLayer\\NationalLandUse_0140326\\nlud2010_Projected.img'\n",
    "# set the ecosystem accounting area address here\n",
    "#ecoAcAreasShapefile = r'D:\\temp\\UrbanEA_HighRes\\watershedDenver\\City_Watershed.shp'\n",
    "ecoAcAreasShapefile = r'G:\\NationalLayer\\Census\\UrbanAreas\\nhgis0054_shape_Places_2010_withPop_hsng\\US_place_2010_Projected_50k_pop.shp' \n",
    "ecoAcAreasRaster=r'G:\\NationalLayer\\Census\\UrbanAreas\\nhgis0054_shape_Places_2010_withPop_hsng\\Places_50k_30m_raster.img'\n",
    "\n",
    "# set the address of the LAI rasters for summer and winter time\n",
    "LAI_LeafOnAddress =r'D:\\temp\\LeafAreaIndex\\Leaf_on2_30m_Projected.img'\n",
    "LAI_LeafOffAddress=r'D:\\temp\\LeafAreaIndex\\Leaf_off2_30m_Projected.img'\n",
    "\n",
    "# set the fields to get name and IDs\n",
    "nameField='NAMELSAD10'\n",
    "id_field='Pl_Uniq_id'\n",
    "cso_field='CSO_StormW'"
   ]
  },
  {
   "cell_type": "code",
   "execution_count": 151,
   "metadata": {},
   "outputs": [],
   "source": [
    "# get the list of codes and the list of names\n",
    "lcCodes=[0,11,12,21,22,23,24,31,41,42,43,51,52,71,72,73,74,81,82,90, 95]\n",
    "lcNames=['','Open Water','Perennial Ice/Snow','Developed Open Sapce','Developed Low Intensity',\n",
    "         'Developed Medium Intensity','Developed High Intensity','Barren Land','Deciduous Forest','Evergreen Forest',\n",
    "         'Mixed Forest','Dwarf','Shrub','Grassland','Sedge/Herb','Lichens','Moss','Pasture/hay','Cultivated Crops',\n",
    "        'Woody Wetlands','Emergent Herbaceous Wetlands'\n",
    "        ]\n",
    "# get the list of codes and the list of names\n",
    "LUcodes=[0,111,112,113,121,131,132,141,151,161,171,172,211,212,213,214,215,\n",
    "       221,222,223,231,233,234,241,242,243,244,245,246,249,251,252,255,\n",
    "       261,310,311,312,313,314,315,321,330,341,342,410,411,412,413,415,\n",
    "       417,418,419,421,422,423,511,512,513,514,515,516,517,518,\n",
    "       519,521,522,523,531,532\n",
    "      ]\n",
    "\n",
    "LUnames=['','Water Nat. Lake','Water Nat. Swamp/marsh','Water Nat. Playa','Water Hum. Reservoir','Water River',\n",
    "      'Water Wash','Water Estuary','Water Canal/ditch','Water Wetlands','Water Open ocean','Water Bay/inlet',\n",
    "       'BU Res. dense urba (>0.1 ac)','BU Res. Urban (0.1 - 1 ac)','BU Res. Suburban (1 - 2.5 ac)','BU Res. Exurban (2.5 - 10 ac)','BU Res. Rural (10 - 40 ac)',\n",
    "       'BU Comm. Office','BU Comm. Retail/shopping','BU Comm. Entertainment','BU Ind. Factory, plant','BU Ind. Landfill waste trmt)',\n",
    "       'BU Ind. Utilities','BU Inst. Schools (developed)','BU Inst. Schools (undeveloped)','BU Inst. Medical','BU Inst. Government/publicl',\n",
    "       'BU Inst. Military (developed)','BU Inst. Military (undeveloped)','BU Inst. Prison','BU Trans. Airports','BU Trans. Highways/railways',\n",
    "       'BU Trans. Undeveloped','BU Misc','Prod Cropland (general)','Prod Row crops','Prod Pastureland','Prod orchards','Prod sod & switchgrass',\n",
    "       'Prod aquaculture','Prod Grazed','Prod Mining (open pit)','Prod Timber','Prod Timber plantations','Rec Dev. undifferentiated',\n",
    "       'Rec Dev. Urban park','Rec Dev. Golf course','Rec Dev. Motorized','Rec Dev. Resort/Ski area','Rec Dev. Campground',\n",
    "       'Rec Dev. Picnic area','Rec Dev. Boat/fish access','Rec. Nat. park','Rec. Nat. Recreation Area','Rec. Nat. Scenic Area',\n",
    "       'Cons. Public Wildlife habitat','Cons. Public Conservation area','Cons. Public Nature Reserve','Cons. Public Wilderness',\n",
    "       'Cons. Public ACEC/RNA','Cons. Public FWS Refuge','Cons. Public Wilderness study area','Cons. Public Archeaology, historic site',\n",
    "       'Cons. Public Wild & Scenic River','Cons. Public-limited Municipal Watershed','Cons. Public-limited Corps Engineers',\n",
    "       'Cons. Marine Protected Area','Cons. Private easement','Cons. Private ag easement'\n",
    "      ]\n",
    "\n",
    "\n",
    "# these are NAICS codes. We match the use type to NAICS codes \n",
    "dictNicsUses = {0:0,111:1,112:1,113:1,121:1,131:1,132:1,141:1,151:1,161:1,171:1,172:1,211:2,212:2,213:2,214:2,215:2,\n",
    "       221:5,222:6,223:7,231:8,233:10,234:10,241:11,242:11,243:12,244:13,245:13,246:13,249:13,251:14,252:14,255:1,\n",
    "       261:1,310:1,311:1,312:1,313:1,314:1,315:1,321:1,330:1,341:1,342:1,410:1,411:1,412:1,413:1,415:1,\n",
    "       417:1,418:1,419:1,421:1,422:1,423:1,511:1,512:1,513:1,514:1,515:1,516:1,517:1,518:1,\n",
    "       519:1,521:1,522:1,523:1,531:1,532:1 \n",
    "               }\n",
    "def creatDictionary (lstCodes,lstNames):\n",
    "    dictNames={}\n",
    "    for i in range(0,len(lstCodes)):\n",
    "        dictNames[lstCodes[i]]=lstNames[i]\n",
    "    return dictNames\n",
    "\n",
    "# create a dictionary for landcover codes and names\n",
    "dicLcCodes=creatDictionary(lcCodes,lcNames)\n",
    "# create a dictionary for landuse codes and names\n",
    "dicLuCodes = creatDictionary(LUcodes,LUnames)\n",
    "\n",
    "def landCoverCodeConvert(codeNumb):\n",
    "    return (dicLcCodes[codeNumb])\n",
    "\n",
    "def landUseCodeConvert(codeNumb):\n",
    "    return (dicLuCodes[codeNumb])\n",
    "\n",
    "# this fucntion converts use types to NAICS Codes\n",
    "def landuseToNAIOCS(useNumber):\n",
    "    return (dictNicsUses[useNumber])"
   ]
  },
  {
   "cell_type": "code",
   "execution_count": 152,
   "metadata": {},
   "outputs": [],
   "source": [
    "def findWindow (shapeBound,mainRasterBnd,mainRasterCellSize):\n",
    "    startRow = int((mainRasterBnd[3] - shapeBound[3])/mainRasterCellSize)\n",
    "    endRow   = int((shapeBound[3] - shapeBound[1])/mainRasterCellSize)+1+startRow\n",
    "    startCol = int((shapeBound[0] - mainRasterBnd[0])/mainRasterCellSize)\n",
    "    endCol   = int((shapeBound[2] - shapeBound[0])/mainRasterCellSize)+1+startCol\n",
    "    return (startRow,endRow,startCol,endCol)"
   ]
  },
  {
   "cell_type": "code",
   "execution_count": 153,
   "metadata": {},
   "outputs": [
    {
     "data": {
      "text/plain": [
       "Index(['Unnamed: 0', 'Date', 'PRCP_Type', 'prcp', 'Measurement_Flag',\n",
       "       'Quality_Flag', 'Source_Flag', 'col99', 'Ycoor', 'Xcoor', 'Elevation',\n",
       "       'State', 'Place', 'col3', 'col4', 'col5', 'col6', 'col7', 'col8',\n",
       "       'col9', 'col10', 'SOS', 'EOS', 'st_unique_ID', 'NOAA_st_ID', 'leaf_on'],\n",
       "      dtype='object')"
      ]
     },
     "execution_count": 153,
     "metadata": {},
     "output_type": "execute_result"
    }
   ],
   "source": [
    "df_storm.columns"
   ]
  },
  {
   "cell_type": "code",
   "execution_count": 154,
   "metadata": {},
   "outputs": [
    {
     "data": {
      "text/html": [
       "<div>\n",
       "<style scoped>\n",
       "    .dataframe tbody tr th:only-of-type {\n",
       "        vertical-align: middle;\n",
       "    }\n",
       "\n",
       "    .dataframe tbody tr th {\n",
       "        vertical-align: top;\n",
       "    }\n",
       "\n",
       "    .dataframe thead th {\n",
       "        text-align: right;\n",
       "    }\n",
       "</style>\n",
       "<table border=\"1\" class=\"dataframe\">\n",
       "  <thead>\n",
       "    <tr style=\"text-align: right;\">\n",
       "      <th></th>\n",
       "      <th>Unnamed: 0</th>\n",
       "      <th>Date</th>\n",
       "      <th>PRCP_Type</th>\n",
       "      <th>prcp</th>\n",
       "      <th>Measurement_Flag</th>\n",
       "      <th>Quality_Flag</th>\n",
       "      <th>Source_Flag</th>\n",
       "      <th>col99</th>\n",
       "      <th>Ycoor</th>\n",
       "      <th>Xcoor</th>\n",
       "      <th>...</th>\n",
       "      <th>col6</th>\n",
       "      <th>col7</th>\n",
       "      <th>col8</th>\n",
       "      <th>col9</th>\n",
       "      <th>col10</th>\n",
       "      <th>SOS</th>\n",
       "      <th>EOS</th>\n",
       "      <th>st_unique_ID</th>\n",
       "      <th>NOAA_st_ID</th>\n",
       "      <th>leaf_on</th>\n",
       "    </tr>\n",
       "  </thead>\n",
       "  <tbody>\n",
       "    <tr>\n",
       "      <th>1461695</th>\n",
       "      <td>USC00153025</td>\n",
       "      <td>2016-03-31</td>\n",
       "      <td>PRCP</td>\n",
       "      <td>0.0015</td>\n",
       "      <td>NaN</td>\n",
       "      <td>NaN</td>\n",
       "      <td>7</td>\n",
       "      <td>600.0</td>\n",
       "      <td>38.2197</td>\n",
       "      <td>-84.8336</td>\n",
       "      <td>...</td>\n",
       "      <td>0.0</td>\n",
       "      <td>NaN</td>\n",
       "      <td>NaN</td>\n",
       "      <td>NaN</td>\n",
       "      <td>NaN</td>\n",
       "      <td>2016-03-29</td>\n",
       "      <td>2016-10-20</td>\n",
       "      <td>39371</td>\n",
       "      <td>USC00153025</td>\n",
       "      <td>1</td>\n",
       "    </tr>\n",
       "    <tr>\n",
       "      <th>237678</th>\n",
       "      <td>US1FLHL0010</td>\n",
       "      <td>2016-04-16</td>\n",
       "      <td>PRCP</td>\n",
       "      <td>0.0008</td>\n",
       "      <td>NaN</td>\n",
       "      <td>NaN</td>\n",
       "      <td>N</td>\n",
       "      <td>NaN</td>\n",
       "      <td>27.6005</td>\n",
       "      <td>-81.5093</td>\n",
       "      <td>...</td>\n",
       "      <td>0.0</td>\n",
       "      <td>NaN</td>\n",
       "      <td>NaN</td>\n",
       "      <td>NaN</td>\n",
       "      <td>NaN</td>\n",
       "      <td>NaN</td>\n",
       "      <td>NaN</td>\n",
       "      <td>8241</td>\n",
       "      <td>US1FLHL0010</td>\n",
       "      <td>0</td>\n",
       "    </tr>\n",
       "  </tbody>\n",
       "</table>\n",
       "<p>2 rows × 26 columns</p>\n",
       "</div>"
      ],
      "text/plain": [
       "          Unnamed: 0        Date PRCP_Type    prcp Measurement_Flag  \\\n",
       "1461695  USC00153025  2016-03-31      PRCP  0.0015              NaN   \n",
       "237678   US1FLHL0010  2016-04-16      PRCP  0.0008              NaN   \n",
       "\n",
       "        Quality_Flag Source_Flag  col99    Ycoor    Xcoor  ...  col6 col7  \\\n",
       "1461695          NaN           7  600.0  38.2197 -84.8336  ...   0.0  NaN   \n",
       "237678           NaN           N    NaN  27.6005 -81.5093  ...   0.0  NaN   \n",
       "\n",
       "        col8 col9 col10         SOS         EOS st_unique_ID   NOAA_st_ID  \\\n",
       "1461695  NaN  NaN   NaN  2016-03-29  2016-10-20        39371  USC00153025   \n",
       "237678   NaN  NaN   NaN         NaN         NaN         8241  US1FLHL0010   \n",
       "\n",
       "         leaf_on  \n",
       "1461695        1  \n",
       "237678         0  \n",
       "\n",
       "[2 rows x 26 columns]"
      ]
     },
     "execution_count": 154,
     "metadata": {},
     "output_type": "execute_result"
    }
   ],
   "source": [
    "df_storm.sample(2)"
   ]
  },
  {
   "cell_type": "code",
   "execution_count": 155,
   "metadata": {},
   "outputs": [],
   "source": [
    "with rasterio.open(nlcd_tc_Address) as rst_nlcd_tc:\n",
    "            kwds = rst_nlcd_tc.meta.copy()\n",
    "            mainRasterBnd=rst_nlcd_tc.bounds\n",
    "            cellSize= kwds['transform'][0]"
   ]
  },
  {
   "cell_type": "code",
   "execution_count": 156,
   "metadata": {},
   "outputs": [],
   "source": [
    "def calInterception(LAI_ar,storm,nlcd_tc):\n",
    "    # calculate maximum storage capaicty (saturation) ===> Svmax=LAI * 0.0002 (Wang, 2008)\n",
    "    maxStorage =LAI_ar * nlcd_tc *0.0002\n",
    "    # we use np.multiply to put together precip events to cells. c=np.array([1,2,3,4,5,6]) p=np.array([[10],[20],[30],[40]]) \n",
    "    ## np.multiply(p,c) np.sum(np.multiply(p,c),axis=0)\n",
    "    storm = storm.reshape(storm.shape[0],1)\n",
    "    # first we need to create 1-d nlcd-tc; we can convert them to 2-d at the end of procedure. \n",
    "    nlcd_tc_1d=nlcd_tc.flatten()\n",
    "    # The equation now is pc = p-p*e^(-kLAI) where K is 0.7\n",
    "    ## let's calculate te second part first P*e^(-kLAI) and name it R=p*e^(-kLAI) \n",
    "    eKLAI= np.exp(-1*0.7*LAI_ar.flatten())\n",
    "    # now matrices_multiply(P X eKLAI)\n",
    "    R = np.multiply(storm,eKLAI)\n",
    "    # now P-R\n",
    "    pi= storm-R\n",
    "    # so far this was for 1m only. Now we multiply by TC area\n",
    "    pi_tcArea= pi*nlcd_tc.flatten()\n",
    "    # pi_leaf matrices have one row for each storm and each col is the pixels, now for each event each pixel we compare it with the Smax and cap the interception at Smax\n",
    "    pi_capped= np.minimum(pi_tcArea,maxStorage.flatten())\n",
    "    # now sum up all events for the cell. sums of cols\n",
    "    pi_pixel= np.nansum(pi_capped, axis=0)\n",
    "    # calculate the rain that falls on the canopy\n",
    "    canopyRain = np.nansum(np.multiply(storm,nlcd_tc_1d),axis=0)\n",
    "    # convert them to 2D array again\n",
    "    pi_pixel2D=pi_pixel.reshape(nlcd_tc.shape)\n",
    "    canopyRain2D = canopyRain.reshape(nlcd_tc.shape)\n",
    "    return [pi_pixel2D,canopyRain2D]"
   ]
  },
  {
   "cell_type": "code",
   "execution_count": 117,
   "metadata": {},
   "outputs": [
    {
     "data": {
      "text/plain": [
       "10"
      ]
     },
     "execution_count": 117,
     "metadata": {},
     "output_type": "execute_result"
    }
   ],
   "source": [
    "eaa_id"
   ]
  },
  {
   "cell_type": "code",
   "execution_count": 157,
   "metadata": {},
   "outputs": [
    {
     "name": "stderr",
     "output_type": "stream",
     "text": [
      "C:\\ProgramData\\Anaconda2\\envs\\myenv\\lib\\site-packages\\fiona\\collection.py:331: FionaDeprecationWarning: Collection slicing is deprecated and will be disabled in a future version.\n",
      "  return self.session.__getitem__(item)\n"
     ]
    },
    {
     "name": "stdout",
     "output_type": "stream",
     "text": [
      "finshed working on  Cambridge city  -  481\n"
     ]
    }
   ],
   "source": [
    "lstDFsLandcover=[]\n",
    "lstDFsLanduse =[]\n",
    "lstErrorEAA=[]\n",
    "\n",
    "# denver is 265\n",
    "# NYC is 571\n",
    "# Seattle is 215\n",
    "for pol in fiona.open(ecoAcAreasShapefile)[480:481]:\n",
    "#    try:\n",
    "    eaa_name=(pol['properties'][nameField])\n",
    "    GISjoins=(pol['properties']['GISJOIN'])\n",
    "    eaa_id=(pol['properties'][id_field])\n",
    "    CSO_Type=(pol['properties'][cso_field])\n",
    "    poly=(shape(pol['geometry']))\n",
    "    #msaPoly=[shape(pol['geometry']) for pol in fiona.open(masShapeAddress)]\n",
    "\n",
    "    with rasterio.open(nlcd_tc_Address) as rst_nlcd_tc:\n",
    "        kwds = rst_nlcd_tc.meta.copy()\n",
    "        mainRasterBnd=rst_nlcd_tc.bounds\n",
    "        cellSize= kwds['transform'][0]\n",
    "\n",
    "    polyBound = poly.bounds\n",
    "    # create a window parameter tuple.   \n",
    "    winProcessing=findWindow(polyBound,mainRasterBnd,cellSize)\n",
    "    #(row_start, row_stop), (col_start, col_stop)\n",
    "    window_use=((winProcessing[0],winProcessing[1]),(winProcessing[2],winProcessing[3]))\n",
    "\n",
    "    # set the cells that do not have the city id as np.nan. This way we are getting cells insdie the boundary only.\n",
    "    with rasterio.open(ecoAcAreasRaster) as src:\n",
    "        eaaAr=src.read(1, window=window_use)\n",
    "        \n",
    "    addressNewEaa = r'D:\\temp\\UrbanEA_HighRes\\watershedDenver\\eaa_watershed.img'\n",
    "    with rasterio.open(addressNewEaa) as rsc:\n",
    "        kwdsCustomEaa = rsc.meta.copy()\n",
    "        eaaCustomBounds=rsc.bounds\n",
    "        eaaCustomNodata =kwdsCustomEaa['nodata']\n",
    "        cellSizeCustom= kwdsCustomEaa['transform'][0]\n",
    "        customEaaWindow = findWindow(polyBound, eaaCustomBounds,cellSizeCustom)\n",
    "        customeEaaWindow_use=((customEaaWindow[0],customEaaWindow[1]),(customEaaWindow[2],customEaaWindow[3]))\n",
    "        eaaAr=rsc.read(1, window=customeEaaWindow_use)\n",
    "\n",
    "#     # when running high resolution layers for a snigle city use the following block instead of nlcd-tc block\n",
    "#     addressHighResCity = r'D:\\temp\\UrbanEA_HighRes\\NYC_tree_Cover.img'\n",
    "#     with rasterio.open(addressHighResCity) as rsc:\n",
    "#         kwdsHighResCity = rsc.meta.copy()\n",
    "#         HighResBound=rsc.bounds\n",
    "#         HighResNoData=kwdsHighResCity['nodata']\n",
    "#         cellSizeHighRes= kwdsHighResCity['transform'][0]\n",
    "#         HighResWindow = findWindow(polyBound, HighResBound,cellSizeHighRes)\n",
    "#         HighResWindow_use=((HighResWindow[0],HighResWindow[1]),(HighResWindow[2],HighResWindow[3]))\n",
    "#         HighResCityAr=rsc.read(1, window=HighResWindow_use)\n",
    "#         HighResCityAr=HighResCityAr.astype('float')\n",
    "#         nlcd_tc_nodata = rsc.nodata\n",
    "#         HighResCityAr[HighResCityAr==nlcd_tc_nodata]=0\n",
    "#         nlcd_tc= HighResCityAr*9\n",
    "#         nlcd_tc[eaaAr!=eaa_id]=np.nan\n",
    "\n",
    "    with rasterio.open(nlcd_tc_Address) as rst_nlcd_tc:\n",
    "        nlcd_tc_win_ar=rst_nlcd_tc.read(1, window=window_use)\n",
    "        nlcd_tc_win_ar=nlcd_tc_win_ar.astype('float')\n",
    "        # convert percent cover to area of tc\n",
    "        nlcd_tc= nlcd_tc_win_ar*9\n",
    "        nlcd_tc[eaaAr!=eaa_id]=np.nan\n",
    "\n",
    "    with rasterio.open(stationAllocationAddress) as src:\n",
    "        station_id_ar=src.read(1, window=window_use)\n",
    "        # here we get the station ids that are only in city boundaries\n",
    "        station_id_ar=station_id_ar[eaaAr==eaa_id]\n",
    "\n",
    "\n",
    "    with rasterio.open(nlcd_lc_Address) as src:\n",
    "        nlcd_lc=src.read(1, window=window_use)\n",
    "        nlcd_lc=nlcd_lc.astype('float')\n",
    "        nlcd_lc[eaaAr!=eaa_id]=np.nan\n",
    "\n",
    "    with rasterio.open(nlud_Address) as src:\n",
    "        nlud=src.read(1, window=window_use)\n",
    "        nlud=nlud.astype('float')\n",
    "        nlud[eaaAr!=eaa_id]=np.nan\n",
    "\n",
    "    # read the low bounds of LAI from Copernicus data \n",
    "    with rasterio.open(LAI_LeafOnAddress) as src:\n",
    "        LAI_leafOn_ar_low=(src.read(1, window=window_use)).astype('float')\n",
    "        LAI_leafOn_ar_low[eaaAr!=eaa_id]=np.nan\n",
    "\n",
    "    with rasterio.open(LAI_LeafOffAddress) as src:\n",
    "        LAI_leafOff_ar_low=(src.read(1, window=window_use)).astype('float')\n",
    "        LAI_leafOff_ar_low[eaaAr!=eaa_id]=np.nan\n",
    "\n",
    "    # let's create an average LAI based on i-Tree\n",
    "    LAI_leafOn_ar_mean=(nlcd_tc*0+1)*4.9\n",
    "    LAI_leafOff_ar_mean=(nlcd_tc*0+1)*2.9\n",
    "\n",
    "    # let's create an upper bound that is 10% higher than the average\n",
    "    LAI_leafOn_ar_up=(nlcd_tc*0+1)*5.39\n",
    "    LAI_leafOff_ar_up=(nlcd_tc*0+1)*3.19\n",
    "\n",
    "\n",
    "    unique, counts = np.unique(station_id_ar.flatten(), return_counts=True)\n",
    "\n",
    "    dfTemp_leafOn =df_storm[(df_storm.st_unique_ID.isin(unique))&(df_storm.leaf_on==1)&(df_storm.prcp>0)]\n",
    "    dfTempOn=dfTemp_leafOn.groupby(['Date']).agg({'prcp': ['max']})\n",
    "    dfTempOn.columns.to_flat_index()\n",
    "    stormLeafOn=np.array(dfTempOn['prcp']['max'])\n",
    "\n",
    "    dfTemp_leafOff =df_storm[(df_storm.st_unique_ID.isin(unique))&(df_storm.leaf_on==0)&(df_storm.prcp>0)]\n",
    "    dfTempOff=dfTemp_leafOff.groupby(['Date']).agg({'prcp': ['max']})\n",
    "    dfTempOff.columns.to_flat_index()\n",
    "    stormLeafOff=np.array(dfTempOff['prcp']['max'])\n",
    "\n",
    "\n",
    "    # now we can use the intercept function to calculate rainfall interception in leaf-on and leaf-off time for low, mean, and upper bounds\n",
    "    # leaf on\n",
    "    intercept_leafOn_low,  canRain_leafOn_low  = calInterception(LAI_leafOn_ar_low,stormLeafOn,nlcd_tc)\n",
    "    intercept_leafOn_mean, canRain_leafOn_mean = calInterception(LAI_leafOn_ar_mean,stormLeafOn,nlcd_tc)\n",
    "    intercept_leafOn_up,   canRain_leafOn_up   = calInterception(LAI_leafOn_ar_up,stormLeafOn,nlcd_tc)\n",
    "    # leaf off\n",
    "    intercept_leafOff_low,  canRain_leafOff_low  = calInterception(LAI_leafOff_ar_low,stormLeafOff,nlcd_tc)\n",
    "    intercept_leafOff_mean, canRain_leafOff_mean = calInterception(LAI_leafOff_ar_mean,stormLeafOff,nlcd_tc)\n",
    "    intercept_leafOff_up,   canRain_leafOff_up   = calInterception(LAI_leafOff_ar_up,stormLeafOff,nlcd_tc)\n",
    "\n",
    "\n",
    "    # calculate total (leaf-off + leaf-on) values\n",
    "    intercept_all_low = intercept_leafOn_low  + intercept_leafOff_low\n",
    "    intercept_all_mean= intercept_leafOn_mean + intercept_leafOff_mean\n",
    "    intercept_all_up  = intercept_leafOn_up   + intercept_leafOff_up\n",
    "\n",
    "    canopyRain_all_low = canRain_leafOn_low   + canRain_leafOff_low\n",
    "    canopyRain_all_mean= canRain_leafOn_mean  + canRain_leafOff_mean\n",
    "    canopyRain_all_up  = canRain_leafOn_up    + canRain_leafOff_up\n",
    "\n",
    "    # get the sum of arrays\n",
    "    all_intercept_low = np.nansum(intercept_all_low)\n",
    "    all_intercept_mean= np.nansum(intercept_all_mean)\n",
    "    all_intercept_up  = np.nansum(intercept_all_up) \n",
    "\n",
    "    all_canopy_rain_low = np.nansum(canopyRain_all_low)\n",
    "    all_canopy_rain_mean= np.nansum(canopyRain_all_mean)\n",
    "    all_canopy_rain_up  = np.nansum(canopyRain_all_up)\n",
    "\n",
    "    # write arrays in a dataframe\n",
    "\n",
    "    df = pd.DataFrame({'landcover':nlcd_lc.flatten(),'landuse':nlud.flatten(),\n",
    "                       'interception_low':intercept_all_low.flatten(),\n",
    "                       'interception_mean':intercept_all_mean.flatten(),\n",
    "                       'interception_up':intercept_all_up.flatten(),\n",
    "                       'canopyRain_low': canopyRain_all_low.flatten(),\n",
    "                       'canopyRain_mean':canopyRain_all_mean.flatten(),\n",
    "                       'canopyRain_up': canopyRain_all_up.flatten()\n",
    "\n",
    "                      })\n",
    "    df=(df[df.interception_low>0])\n",
    "\n",
    "    dfAgrLandcover=df.groupby(['landcover']).agg({'interception_low': ['sum'],'interception_mean':['sum'],'interception_up':['sum'],'canopyRain_mean':['sum']})\n",
    "    dfAgrLanduse  =df.groupby(['landuse']).agg({'interception_low': ['sum'],'interception_mean':['sum'],'interception_up':['sum'],'canopyRain_mean':['sum']})\n",
    "    dfAgrLandcover=pd.DataFrame(dfAgrLandcover.to_records())\n",
    "    dfAgrLanduse  =pd.DataFrame(dfAgrLanduse.to_records())\n",
    "    # set some fields\n",
    "    dfAgrLandcover['GISJoin']=GISjoins\n",
    "    dfAgrLandcover['eaa_id']=eaa_id\n",
    "    dfAgrLandcover['Name']   = eaa_name\n",
    "    dfAgrLandcover['CSO'] =CSO_Type\n",
    "    # dfAgrLandcover['st_unique_ID']=station\n",
    "    dfAgrLanduse['GISJoin']=GISjoins\n",
    "    dfAgrLanduse['Name']   = eaa_name\n",
    "    dfAgrLanduse['eaa_id']=eaa_id\n",
    "    dfAgrLanduse['CSO'] =CSO_Type\n",
    "\n",
    "    # dfAgrLanduse['st_unique_ID']=station\n",
    "    lstDFsLandcover.append(dfAgrLandcover)\n",
    "    lstDFsLanduse.append(dfAgrLanduse)\n",
    "    print ('finshed working on ',eaa_name,\" - \",eaa_id)\n",
    "#     except:\n",
    "#         print ('got an error for ',eaa_name,\" - \",eaa_id)\n",
    "#         lstErrorEAA.append([eaa_name,eaa_id])"
   ]
  },
  {
   "cell_type": "code",
   "execution_count": 158,
   "metadata": {},
   "outputs": [],
   "source": [
    "allDfsLandcover = pd.concat(lstDFsLandcover)\n",
    "allDfsLanduse   = pd.concat(lstDFsLanduse)"
   ]
  },
  {
   "cell_type": "code",
   "execution_count": 129,
   "metadata": {},
   "outputs": [
    {
     "data": {
      "text/html": [
       "<div>\n",
       "<style scoped>\n",
       "    .dataframe tbody tr th:only-of-type {\n",
       "        vertical-align: middle;\n",
       "    }\n",
       "\n",
       "    .dataframe tbody tr th {\n",
       "        vertical-align: top;\n",
       "    }\n",
       "\n",
       "    .dataframe thead th {\n",
       "        text-align: right;\n",
       "    }\n",
       "</style>\n",
       "<table border=\"1\" class=\"dataframe\">\n",
       "  <thead>\n",
       "    <tr style=\"text-align: right;\">\n",
       "      <th></th>\n",
       "      <th>landuse</th>\n",
       "      <th>('interception_low', 'sum')</th>\n",
       "      <th>('interception_mean', 'sum')</th>\n",
       "      <th>('interception_up', 'sum')</th>\n",
       "      <th>('canopyRain_mean', 'sum')</th>\n",
       "      <th>GISJoin</th>\n",
       "      <th>Name</th>\n",
       "      <th>eaa_id</th>\n",
       "      <th>CSO</th>\n",
       "    </tr>\n",
       "  </thead>\n",
       "  <tbody>\n",
       "    <tr>\n",
       "      <th>0</th>\n",
       "      <td>111.0</td>\n",
       "      <td>4176.212059</td>\n",
       "      <td>13348.403250</td>\n",
       "      <td>14462.817275</td>\n",
       "      <td>123462.0972</td>\n",
       "      <td>G10</td>\n",
       "      <td>LiitleDry - Outside</td>\n",
       "      <td>10</td>\n",
       "      <td>0</td>\n",
       "    </tr>\n",
       "    <tr>\n",
       "      <th>1</th>\n",
       "      <td>113.0</td>\n",
       "      <td>918.366487</td>\n",
       "      <td>3029.695735</td>\n",
       "      <td>3282.635008</td>\n",
       "      <td>28022.2722</td>\n",
       "      <td>G10</td>\n",
       "      <td>LiitleDry - Outside</td>\n",
       "      <td>10</td>\n",
       "      <td>0</td>\n",
       "    </tr>\n",
       "  </tbody>\n",
       "</table>\n",
       "</div>"
      ],
      "text/plain": [
       "   landuse  ('interception_low', 'sum')  ('interception_mean', 'sum')  \\\n",
       "0    111.0                  4176.212059                  13348.403250   \n",
       "1    113.0                   918.366487                   3029.695735   \n",
       "\n",
       "   ('interception_up', 'sum')  ('canopyRain_mean', 'sum') GISJoin  \\\n",
       "0                14462.817275                 123462.0972     G10   \n",
       "1                 3282.635008                  28022.2722     G10   \n",
       "\n",
       "                  Name  eaa_id  CSO  \n",
       "0  LiitleDry - Outside      10    0  \n",
       "1  LiitleDry - Outside      10    0  "
      ]
     },
     "execution_count": 129,
     "metadata": {},
     "output_type": "execute_result"
    }
   ],
   "source": [
    "allDfsLanduse.head(2)"
   ]
  },
  {
   "cell_type": "code",
   "execution_count": 130,
   "metadata": {},
   "outputs": [],
   "source": [
    "allDfsLanduse['LU_Label'] = allDfsLanduse['landuse'].apply(landUseCodeConvert)\n",
    "allDfsLandcover['LC_Lable'] = allDfsLandcover['landcover'].apply(landCoverCodeConvert)\n",
    "allDfsLanduse['NAICS_Code'] = allDfsLanduse['landuse'].apply(landuseToNAIOCS)"
   ]
  },
  {
   "cell_type": "code",
   "execution_count": 131,
   "metadata": {},
   "outputs": [],
   "source": [
    "allDfsLanduse['Year'] = year\n",
    "allDfsLanduse['LandCoverUse']='LandUse'\n",
    "allDfsLandcover['Year'] = year\n",
    "allDfsLandcover['LandCoverUse']='LandCover'"
   ]
  },
  {
   "cell_type": "code",
   "execution_count": 63,
   "metadata": {},
   "outputs": [],
   "source": [
    "allDfsLandcover.to_csv(r'D:\\OneDriveSyncFolder\\OneDrive - The University of Colorado Denver\\Ecosystem Service Accounting Project\\Papers\\Urban EA\\Results\\2020Version\\Rainfall\\Rainfall_allDfsLandcover_processe_{}_urbanAreas.csv'.format(year))\n",
    "allDfsLanduse.to_csv(r'D:\\OneDriveSyncFolder\\OneDrive - The University of Colorado Denver\\Ecosystem Service Accounting Project\\Papers\\Urban EA\\Results\\2020Version\\Rainfall\\Rainfall_allDfsLanduse_processed_{}_urbanAreas.csv'.format(year))"
   ]
  },
  {
   "cell_type": "code",
   "execution_count": 132,
   "metadata": {},
   "outputs": [
    {
     "data": {
      "text/plain": [
       "2016"
      ]
     },
     "execution_count": 132,
     "metadata": {},
     "output_type": "execute_result"
    }
   ],
   "source": [
    "year"
   ]
  },
  {
   "cell_type": "code",
   "execution_count": 134,
   "metadata": {},
   "outputs": [],
   "source": [
    "folderAddress = r'D:\\OneDriveSyncFolder\\OneDrive - The University of Colorado Denver\\Ecosystem Service Accounting Project\\Papers\\Urban EA\\Results\\2020Version\\Rainfall\\watershedsDenver'\n",
    "allDfsLandcover.to_csv(folderAddress+r'\\watershedRainfallDenver2016.csv')"
   ]
  },
  {
   "cell_type": "code",
   "execution_count": 161,
   "metadata": {},
   "outputs": [
    {
     "data": {
      "text/plain": [
       "()"
      ]
     },
     "execution_count": 161,
     "metadata": {},
     "output_type": "execute_result"
    }
   ],
   "source": [
    "all_intercept_mean.shape"
   ]
  },
  {
   "cell_type": "code",
   "execution_count": 133,
   "metadata": {},
   "outputs": [
    {
     "data": {
      "text/plain": [
       "1305328.7357919007"
      ]
     },
     "execution_count": 133,
     "metadata": {},
     "output_type": "execute_result"
    }
   ],
   "source": [
    "allDfsLandcover[\"('interception_low', 'sum')\"].sum()"
   ]
  },
  {
   "cell_type": "code",
   "execution_count": null,
   "metadata": {},
   "outputs": [],
   "source": [
    "print('minutes elapsed = ' ,(time.time()-t1)/60)"
   ]
  },
  {
   "cell_type": "code",
   "execution_count": null,
   "metadata": {},
   "outputs": [],
   "source": [
    "import matplotlib.pyplot as plt\n",
    "plt.imshow(all_intercept_mean)"
   ]
  },
  {
   "cell_type": "code",
   "execution_count": 41,
   "metadata": {},
   "outputs": [],
   "source": [
    "addressHighResCity = r'D:\\temp\\UrbanEA_HighRes\\Denver_tree_Cover.img'\n",
    "with rasterio.open(addressHighResCity) as rsc:\n",
    "    kwdsHighResCity = rsc.meta.copy()\n",
    "    HighResBound=rsc.bounds\n",
    "    HighResNoData=kwdsHighResCity['nodata']\n",
    "    cellSizeHighRes= kwdsHighResCity['transform'][0]\n",
    "    HighResWindow = findWindow(polyBound, HighResBound,cellSizeHighRes)\n",
    "    HighResWindow_use=((HighResWindow[0],HighResWindow[1]),(HighResWindow[2],HighResWindow[3]))\n",
    "    HighResCityAr=rsc.read(1, window=HighResWindow_use)\n",
    "    HighResCityAr=HighResCityAr.astype('float')\n",
    "    nlcd_tc_nodata = rsc.nodata\n",
    "    HighResCityAr[HighResCityAr==nlcd_tc_nodata]=0\n",
    "    nlcd_tc= HighResCityAr*9\n",
    "    nlcd_tc[eaaAr!=eaa_id]=np.nan\n",
    "        \n",
    "# with rasterio.open(nlcd_tc_Address) as rst_nlcd_tc:\n",
    "#     nlcd_tc_win_ar=rst_nlcd_tc.read(1, window=window_use)\n",
    "#     nlcd_tc_win_ar=nlcd_tc_win_ar.astype('float')\n",
    "#     # convert percent cover to area of tc\n",
    "#     nlcd_tc= nlcd_tc_win_ar*9\n",
    "#     nlcd_tc[eaaAr!=eaa_id]=np.nan"
   ]
  },
  {
   "cell_type": "code",
   "execution_count": 42,
   "metadata": {},
   "outputs": [
    {
     "data": {
      "text/plain": [
       "87.63124384932873"
      ]
     },
     "execution_count": 42,
     "metadata": {},
     "output_type": "execute_result"
    }
   ],
   "source": [
    "np.nanmean(nlcd_tc)"
   ]
  },
  {
   "cell_type": "code",
   "execution_count": null,
   "metadata": {},
   "outputs": [],
   "source": []
  }
 ],
 "metadata": {
  "kernelspec": {
   "display_name": "Python 3",
   "language": "python",
   "name": "python3"
  },
  "language_info": {
   "codemirror_mode": {
    "name": "ipython",
    "version": 3
   },
   "file_extension": ".py",
   "mimetype": "text/x-python",
   "name": "python",
   "nbconvert_exporter": "python",
   "pygments_lexer": "ipython3",
   "version": "3.7.6"
  }
 },
 "nbformat": 4,
 "nbformat_minor": 4
}
